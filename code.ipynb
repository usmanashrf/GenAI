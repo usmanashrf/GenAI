{
 "cells": [
  {
   "cell_type": "code",
   "execution_count": 2,
   "metadata": {},
   "outputs": [
    {
     "name": "stdout",
     "output_type": "stream",
     "text": [
      "Collecting openai\n",
      "  Downloading openai-1.5.0-py3-none-any.whl.metadata (17 kB)\n",
      "Collecting anyio<5,>=3.5.0 (from openai)\n",
      "  Downloading anyio-4.2.0-py3-none-any.whl.metadata (4.6 kB)\n",
      "Collecting distro<2,>=1.7.0 (from openai)\n",
      "  Downloading distro-1.8.0-py3-none-any.whl (20 kB)\n",
      "Collecting httpx<1,>=0.23.0 (from openai)\n",
      "  Downloading httpx-0.25.2-py3-none-any.whl.metadata (6.9 kB)\n",
      "Collecting pydantic<3,>=1.9.0 (from openai)\n",
      "  Downloading pydantic-2.5.2-py3-none-any.whl.metadata (65 kB)\n",
      "     ---------------------------------------- 0.0/65.2 kB ? eta -:--:--\n",
      "     ------------------ --------------------- 30.7/65.2 kB ? eta -:--:--\n",
      "     -------------------------------------- 65.2/65.2 kB 704.7 kB/s eta 0:00:00\n",
      "Collecting sniffio (from openai)\n",
      "  Downloading sniffio-1.3.0-py3-none-any.whl (10 kB)\n",
      "Collecting tqdm>4 (from openai)\n",
      "  Using cached tqdm-4.66.1-py3-none-any.whl.metadata (57 kB)\n",
      "Collecting typing-extensions<5,>=4.5 (from openai)\n",
      "  Downloading typing_extensions-4.9.0-py3-none-any.whl.metadata (3.0 kB)\n",
      "Collecting idna>=2.8 (from anyio<5,>=3.5.0->openai)\n",
      "  Downloading idna-3.6-py3-none-any.whl.metadata (9.9 kB)\n",
      "Collecting certifi (from httpx<1,>=0.23.0->openai)\n",
      "  Downloading certifi-2023.11.17-py3-none-any.whl.metadata (2.2 kB)\n",
      "Collecting httpcore==1.* (from httpx<1,>=0.23.0->openai)\n",
      "  Downloading httpcore-1.0.2-py3-none-any.whl.metadata (20 kB)\n",
      "Collecting h11<0.15,>=0.13 (from httpcore==1.*->httpx<1,>=0.23.0->openai)\n",
      "  Downloading h11-0.14.0-py3-none-any.whl (58 kB)\n",
      "     ---------------------------------------- 0.0/58.3 kB ? eta -:--:--\n",
      "     ---------------------------------------- 58.3/58.3 kB 3.2 MB/s eta 0:00:00\n",
      "Collecting annotated-types>=0.4.0 (from pydantic<3,>=1.9.0->openai)\n",
      "  Downloading annotated_types-0.6.0-py3-none-any.whl.metadata (12 kB)\n",
      "Collecting pydantic-core==2.14.5 (from pydantic<3,>=1.9.0->openai)\n",
      "  Downloading pydantic_core-2.14.5-cp311-none-win_amd64.whl.metadata (6.6 kB)\n",
      "Requirement already satisfied: colorama in d:\\condaenviroment\\conda-installed\\envs\\myenv3_11\\lib\\site-packages (from tqdm>4->openai) (0.4.6)\n",
      "Downloading openai-1.5.0-py3-none-any.whl (223 kB)\n",
      "   ---------------------------------------- 0.0/223.7 kB ? eta -:--:--\n",
      "   ---------- ----------------------------- 61.4/223.7 kB 1.7 MB/s eta 0:00:01\n",
      "   --------------------- ------------------ 122.9/223.7 kB 1.4 MB/s eta 0:00:01\n",
      "   ---------------------------------- ----- 194.6/223.7 kB 1.5 MB/s eta 0:00:01\n",
      "   ---------------------------------------- 223.7/223.7 kB 1.4 MB/s eta 0:00:00\n",
      "Downloading anyio-4.2.0-py3-none-any.whl (85 kB)\n",
      "   ---------------------------------------- 0.0/85.5 kB ? eta -:--:--\n",
      "   ---------------------------- ----------- 61.4/85.5 kB 1.7 MB/s eta 0:00:01\n",
      "   ---------------------------------------- 85.5/85.5 kB 964.6 kB/s eta 0:00:00\n",
      "Downloading httpx-0.25.2-py3-none-any.whl (74 kB)\n",
      "   ---------------------------------------- 0.0/75.0 kB ? eta -:--:--\n",
      "   -------------------------------------- - 71.7/75.0 kB 2.0 MB/s eta 0:00:01\n",
      "   ---------------------------------------- 75.0/75.0 kB 1.0 MB/s eta 0:00:00\n",
      "Downloading httpcore-1.0.2-py3-none-any.whl (76 kB)\n",
      "   ---------------------------------------- 0.0/76.9 kB ? eta -:--:--\n",
      "   ------------------------------------- -- 71.7/76.9 kB 1.3 MB/s eta 0:00:01\n",
      "   ---------------------------------------- 76.9/76.9 kB 1.1 MB/s eta 0:00:00\n",
      "Downloading pydantic-2.5.2-py3-none-any.whl (381 kB)\n",
      "   ---------------------------------------- 0.0/381.9 kB ? eta -:--:--\n",
      "   ------- -------------------------------- 71.7/381.9 kB 1.3 MB/s eta 0:00:01\n",
      "   ---------------- ----------------------- 153.6/381.9 kB 1.5 MB/s eta 0:00:01\n",
      "   ----------------------- ---------------- 225.3/381.9 kB 1.4 MB/s eta 0:00:01\n",
      "   ------------------------------ --------- 286.7/381.9 kB 1.5 MB/s eta 0:00:01\n",
      "   ------------------------------------- -- 358.4/381.9 kB 1.4 MB/s eta 0:00:01\n",
      "   ---------------------------------------- 381.9/381.9 kB 1.3 MB/s eta 0:00:00\n",
      "Downloading pydantic_core-2.14.5-cp311-none-win_amd64.whl (1.9 MB)\n",
      "   ---------------------------------------- 0.0/1.9 MB ? eta -:--:--\n",
      "   - -------------------------------------- 0.1/1.9 MB 2.0 MB/s eta 0:00:01\n",
      "   ---- ----------------------------------- 0.2/1.9 MB 1.7 MB/s eta 0:00:01\n",
      "   ------ --------------------------------- 0.3/1.9 MB 1.6 MB/s eta 0:00:01\n",
      "   ------- -------------------------------- 0.4/1.9 MB 1.6 MB/s eta 0:00:01\n",
      "   --------- ------------------------------ 0.5/1.9 MB 1.5 MB/s eta 0:00:01\n",
      "   ----------- ---------------------------- 0.5/1.9 MB 1.5 MB/s eta 0:00:01\n",
      "   ------------ --------------------------- 0.6/1.9 MB 1.6 MB/s eta 0:00:01\n",
      "   ------------- -------------------------- 0.6/1.9 MB 1.5 MB/s eta 0:00:01\n",
      "   --------------- ------------------------ 0.7/1.9 MB 1.5 MB/s eta 0:00:01\n",
      "   ---------------- ----------------------- 0.8/1.9 MB 1.5 MB/s eta 0:00:01\n",
      "   ------------------ --------------------- 0.9/1.9 MB 1.5 MB/s eta 0:00:01\n",
      "   -------------------- ------------------- 1.0/1.9 MB 1.5 MB/s eta 0:00:01\n",
      "   --------------------- ------------------ 1.0/1.9 MB 1.5 MB/s eta 0:00:01\n",
      "   ----------------------- ---------------- 1.1/1.9 MB 1.5 MB/s eta 0:00:01\n",
      "   ------------------------ --------------- 1.2/1.9 MB 1.5 MB/s eta 0:00:01\n",
      "   ------------------------- -------------- 1.2/1.9 MB 1.5 MB/s eta 0:00:01\n",
      "   --------------------------- ------------ 1.3/1.9 MB 1.5 MB/s eta 0:00:01\n",
      "   --------------------------- ------------ 1.3/1.9 MB 1.5 MB/s eta 0:00:01\n",
      "   --------------------------- ------------ 1.3/1.9 MB 1.5 MB/s eta 0:00:01\n",
      "   --------------------------- ------------ 1.3/1.9 MB 1.5 MB/s eta 0:00:01\n",
      "   --------------------------- ------------ 1.3/1.9 MB 1.5 MB/s eta 0:00:01\n",
      "   ----------------------------- ---------- 1.4/1.9 MB 1.3 MB/s eta 0:00:01\n",
      "   ------------------------------------ --- 1.7/1.9 MB 1.5 MB/s eta 0:00:01\n",
      "   ------------------------------------- -- 1.8/1.9 MB 1.5 MB/s eta 0:00:01\n",
      "   ---------------------------------------  1.9/1.9 MB 1.5 MB/s eta 0:00:01\n",
      "   ---------------------------------------- 1.9/1.9 MB 1.4 MB/s eta 0:00:00\n",
      "Using cached tqdm-4.66.1-py3-none-any.whl (78 kB)\n",
      "Downloading typing_extensions-4.9.0-py3-none-any.whl (32 kB)\n",
      "Downloading annotated_types-0.6.0-py3-none-any.whl (12 kB)\n",
      "Downloading idna-3.6-py3-none-any.whl (61 kB)\n",
      "   ---------------------------------------- 0.0/61.6 kB ? eta -:--:--\n",
      "   ---------------------------------------  61.4/61.6 kB 1.6 MB/s eta 0:00:01\n",
      "   ---------------------------------------- 61.6/61.6 kB 814.7 kB/s eta 0:00:00\n",
      "Downloading certifi-2023.11.17-py3-none-any.whl (162 kB)\n",
      "   ---------------------------------------- 0.0/162.5 kB ? eta -:--:--\n",
      "   ----------------- ---------------------- 71.7/162.5 kB 1.3 MB/s eta 0:00:01\n",
      "   ------------------------------------- -- 153.6/162.5 kB 1.5 MB/s eta 0:00:01\n",
      "   ---------------------------------------- 162.5/162.5 kB 1.2 MB/s eta 0:00:00\n",
      "Installing collected packages: typing-extensions, tqdm, sniffio, idna, h11, distro, certifi, annotated-types, pydantic-core, httpcore, anyio, pydantic, httpx, openai\n",
      "Successfully installed annotated-types-0.6.0 anyio-4.2.0 certifi-2023.11.17 distro-1.8.0 h11-0.14.0 httpcore-1.0.2 httpx-0.25.2 idna-3.6 openai-1.5.0 pydantic-2.5.2 pydantic-core-2.14.5 sniffio-1.3.0 tqdm-4.66.1 typing-extensions-4.9.0\n"
     ]
    }
   ],
   "source": [
    "!pip install openai"
   ]
  },
  {
   "cell_type": "code",
   "execution_count": 11,
   "metadata": {},
   "outputs": [
    {
     "name": "stdout",
     "output_type": "stream",
     "text": [
      "Collecting python-dotenv\n",
      "  Using cached python_dotenv-1.0.0-py3-none-any.whl (19 kB)\n",
      "Installing collected packages: python-dotenv\n",
      "Successfully installed python-dotenv-1.0.0\n"
     ]
    }
   ],
   "source": [
    "!pip install python-dotenv "
   ]
  },
  {
   "cell_type": "code",
   "execution_count": 12,
   "metadata": {},
   "outputs": [],
   "source": [
    "from openai import OpenAI\n",
    "from dotenv import load_dotenv, find_dotenv\n",
    "import os\n",
    "\n",
    "_ : bool = load_dotenv(find_dotenv()) # read local .env file\n",
    "\n",
    "client : OpenAI = OpenAI()"
   ]
  },
  {
   "cell_type": "code",
   "execution_count": 17,
   "metadata": {},
   "outputs": [
    {
     "data": {
      "text/plain": [
       "{'id': 'chatcmpl-8XS30yGDeO3eY6w54PislvpY2kC9H',\n",
       " 'choices': [Choice(finish_reason='stop', index=0, logprobs=None, message=ChatCompletionMessage(content='1+1 equals 2.', role='assistant', function_call=None, tool_calls=None))],\n",
       " 'created': 1702983330,\n",
       " 'model': 'gpt-3.5-turbo-1106',\n",
       " 'object': 'chat.completion',\n",
       " 'system_fingerprint': 'fp_772e8125bb',\n",
       " 'usage': CompletionUsage(completion_tokens=7, prompt_tokens=14, total_tokens=21)}"
      ]
     },
     "metadata": {},
     "output_type": "display_data"
    },
    {
     "data": {
      "text/plain": [
       "'1+1 equals 2.'"
      ]
     },
     "execution_count": 17,
     "metadata": {},
     "output_type": "execute_result"
    }
   ],
   "source": [
    "from openai.types.chat.chat_completion import ChatCompletion\n",
    "\n",
    "def chat_completion(prompt : str )-> str:\n",
    " response : ChatCompletion = client.chat.completions.create(\n",
    "        messages=[\n",
    "            {\n",
    "                \"role\": \"user\",\n",
    "                \"content\": prompt,\n",
    "            }\n",
    "        ],\n",
    "        model=\"gpt-3.5-turbo-1106\",\n",
    "    )\n",
    " display(dict(response))\n",
    "#  print(response.choices[0].message.content)\n",
    " return response.choices[0].message.content\n",
    "\n",
    "chat_completion(\"what is 1+1?\")"
   ]
  },
  {
   "cell_type": "code",
   "execution_count": 27,
   "metadata": {},
   "outputs": [
    {
     "name": "stdout",
     "output_type": "stream",
     "text": [
      "In the realm of code, a concept profound,\n",
      "Lies the beauty of recursion, so tightly wound.\n",
      "A function that calls itself, without hesitation,\n",
      "A mesmerizing loop of self-replication.\n",
      "\n",
      "Like a Russian doll, nested and grand,\n",
      "Recursion unfolds, as if by magic hand.\n",
      "With each call, a new journey begins,\n",
      "Unraveling tasks, as the program spins.\n",
      "\n",
      "Through the maze of function calls, it strides,\n",
      "Elegantly solving problems, with nothing to hide.\n",
      "A symphony of repetition, harmonious and clear,\n",
      "Recursion dances through code, without fear.\n",
      "\n",
      "Yet beware, for in its infinite embrace,\n",
      "Lies the peril of a never-ending race.\n",
      "Without proper care, the program may stall,\n",
      "Lost in the labyrinth, unable to recall.\n",
      "\n",
      "So marvel at recursion, its power and grace,\n",
      "But wield it wisely, in the programming space.\n",
      "For in the hands of a skilled coder's devotion,\n",
      "Recursion becomes a symphony of endless motion.\n"
     ]
    }
   ],
   "source": [
    "from openai.types.chat.chat_completion import ChatCompletion\n",
    "\n",
    "def chat_completion()->str:\n",
    "  completion : ChatCompletion = client.chat.completions.create(\n",
    "    model  = \"gpt-3.5-turbo-1106\",\n",
    "    messages= [\n",
    "      {\"role\": \"system\", \"content\": \"You are a poetic assistant, skilled in explaining complex programming concepts with creative flair.\"},\n",
    "      {\"role\": \"user\", \"content\": \"Compose a poem that explains the concept of recursion in programming.\"}\n",
    "    ]\n",
    "  )\n",
    "\n",
    "  return completion.choices[0].message.content\n",
    "\n",
    "print(chat_completion())"
   ]
  },
  {
   "cell_type": "code",
   "execution_count": 28,
   "metadata": {},
   "outputs": [
    {
     "name": "stdout",
     "output_type": "stream",
     "text": [
      "\n",
      "This\n",
      " is\n",
      " a\n",
      " test\n",
      ".\n",
      "\n"
     ]
    }
   ],
   "source": [
    "from openai import OpenAI\n",
    "\n",
    "client = OpenAI()\n",
    "\n",
    "stream = client.chat.completions.create(\n",
    "    model=\"gpt-3.5-turbo-1106\",\n",
    "    messages=[{\"role\": \"user\", \"content\": \"Say this is a test\"}],\n",
    "    stream=True,\n",
    ")\n",
    "for part in stream:\n",
    "    print(part.choices[0].delta.content or \"\")"
   ]
  },
  {
   "cell_type": "code",
   "execution_count": 35,
   "metadata": {},
   "outputs": [
    {
     "name": "stdout",
     "output_type": "stream",
     "text": [
      "{\n",
      "  \"winner\": \"Los Angeles Dodgers\",\n",
      "  \"year\": 2020\n",
      "}\n"
     ]
    }
   ],
   "source": [
    "response = client.chat.completions.create(\n",
    "  model=\"gpt-3.5-turbo-1106\",\n",
    "  # response_format={ \"type\": \"json_object\" },\n",
    "  messages=[\n",
    "    {\"role\": \"system\", \"content\": \"You are a helpful assistant designed to output JSON.\"},\n",
    "    {\"role\": \"user\", \"content\": \"Who won the world series in 2020?\"}\n",
    "  ]\n",
    ")\n",
    "print(response.choices[0].message.content)"
   ]
  },
  {
   "cell_type": "code",
   "execution_count": 33,
   "metadata": {},
   "outputs": [
    {
     "name": "stdout",
     "output_type": "stream",
     "text": [
      "{\n",
      "  \"months\": [\n",
      "    \"April\",\n",
      "    \"June\",\n",
      "    \"September\",\n",
      "    \"November\"\n",
      "  ]\n",
      "}\n"
     ]
    }
   ],
   "source": [
    "response = client.chat.completions.create(\n",
    "  model=\"gpt-3.5-turbo-1106\",\n",
    "  response_format={ \"type\": \"json_object\" },\n",
    "  messages=[\n",
    "    {\"role\": \"system\", \"content\": \"You are a helpful assistant designed to output JSON.\"},\n",
    "    {\"role\": \"user\", \"content\": \"List of months that have 30 days\"}\n",
    "  ]\n",
    ")\n",
    "print(response.choices[0].message.content)"
   ]
  },
  {
   "cell_type": "code",
   "execution_count": null,
   "metadata": {},
   "outputs": [],
   "source": []
  },
  {
   "cell_type": "code",
   "execution_count": null,
   "metadata": {},
   "outputs": [],
   "source": []
  },
  {
   "cell_type": "code",
   "execution_count": null,
   "metadata": {},
   "outputs": [],
   "source": []
  },
  {
   "cell_type": "code",
   "execution_count": null,
   "metadata": {},
   "outputs": [],
   "source": []
  },
  {
   "cell_type": "code",
   "execution_count": null,
   "metadata": {},
   "outputs": [],
   "source": []
  },
  {
   "cell_type": "code",
   "execution_count": null,
   "metadata": {},
   "outputs": [],
   "source": []
  }
 ],
 "metadata": {
  "kernelspec": {
   "display_name": "Python 3",
   "language": "python",
   "name": "python3"
  },
  "language_info": {
   "codemirror_mode": {
    "name": "ipython",
    "version": 3
   },
   "file_extension": ".py",
   "mimetype": "text/x-python",
   "name": "python",
   "nbconvert_exporter": "python",
   "pygments_lexer": "ipython3",
   "version": "3.11.5"
  }
 },
 "nbformat": 4,
 "nbformat_minor": 2
}
